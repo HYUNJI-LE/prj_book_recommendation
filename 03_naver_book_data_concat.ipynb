{
 "cells": [
  {
   "cell_type": "code",
   "execution_count": 1,
   "metadata": {},
   "outputs": [],
   "source": [
    "import pandas as pd"
   ]
  },
  {
   "cell_type": "code",
   "execution_count": 2,
   "metadata": {},
   "outputs": [],
   "source": [
    "df = pd.read_csv('./crawling/daum_book123.csv', index_col=0)\n"
   ]
  },
  {
   "cell_type": "code",
   "execution_count": 3,
   "metadata": {},
   "outputs": [
    {
     "name": "stdout",
     "output_type": "stream",
     "text": [
      "<class 'pandas.core.frame.DataFrame'>\n",
      "Int64Index: 8652 entries, 0 to 8651\n",
      "Data columns (total 2 columns):\n",
      " #   Column   Non-Null Count  Dtype \n",
      "---  ------   --------------  ----- \n",
      " 0   title    8652 non-null   object\n",
      " 1   content  8652 non-null   object\n",
      "dtypes: object(2)\n",
      "memory usage: 202.8+ KB\n",
      "None\n"
     ]
    }
   ],
   "source": [
    "print(df.info())"
   ]
  },
  {
   "cell_type": "code",
   "execution_count": 4,
   "metadata": {},
   "outputs": [],
   "source": [
    "#data = pd.read_csv('./crawling/cleaned_daum_book3.csv', index_col=0) #index_col 안하면 unnamed 컬럼이 생김\n",
    "#df = pd.concat([df,data], ignore_index=True)"
   ]
  },
  {
   "cell_type": "code",
   "execution_count": 5,
   "metadata": {},
   "outputs": [],
   "source": [
    "for i in range(4,6):\n",
    "    data = pd.read_csv('./crawling/daum_book{}.csv'.format(i), index_col=0) #index_col 안하면 unnamed 컬럼이 생김\n",
    "    df = pd.concat([df,data], ignore_index=True)"
   ]
  },
  {
   "cell_type": "code",
   "execution_count": 6,
   "metadata": {},
   "outputs": [
    {
     "data": {
      "text/plain": [
       "array(['유시민의 경제학 카페', '좋은 기업을 넘어... 위대한 기업으로', '포지셔닝', ..., '명탐정 코난 1',\n",
       "       '슬램덩크 프리미엄 1', '돌아온 자살토끼'], dtype=object)"
      ]
     },
     "execution_count": 6,
     "metadata": {},
     "output_type": "execute_result"
    }
   ],
   "source": [
    "\n",
    "df['title'].unique()"
   ]
  },
  {
   "cell_type": "code",
   "execution_count": 7,
   "metadata": {},
   "outputs": [],
   "source": [
    "df.dropna(subset=['content'],how='any',inplace=True)"
   ]
  },
  {
   "cell_type": "code",
   "execution_count": 8,
   "metadata": {
    "scrolled": true
   },
   "outputs": [
    {
     "name": "stdout",
     "output_type": "stream",
     "text": [
      "<class 'pandas.core.frame.DataFrame'>\n",
      "Int64Index: 13449 entries, 0 to 13449\n",
      "Data columns (total 2 columns):\n",
      " #   Column   Non-Null Count  Dtype \n",
      "---  ------   --------------  ----- \n",
      " 0   title    13449 non-null  object\n",
      " 1   content  13449 non-null  object\n",
      "dtypes: object(2)\n",
      "memory usage: 315.2+ KB\n",
      "None\n"
     ]
    }
   ],
   "source": [
    "print(df.info())"
   ]
  },
  {
   "cell_type": "code",
   "execution_count": 9,
   "metadata": {},
   "outputs": [],
   "source": [
    "df.drop_duplicates(['title'],inplace=True)\n",
    "df.reset_index(drop=True, inplace=True)"
   ]
  },
  {
   "cell_type": "code",
   "execution_count": 10,
   "metadata": {},
   "outputs": [
    {
     "name": "stdout",
     "output_type": "stream",
     "text": [
      "<class 'pandas.core.frame.DataFrame'>\n",
      "RangeIndex: 12639 entries, 0 to 12638\n",
      "Data columns (total 2 columns):\n",
      " #   Column   Non-Null Count  Dtype \n",
      "---  ------   --------------  ----- \n",
      " 0   title    12639 non-null  object\n",
      " 1   content  12639 non-null  object\n",
      "dtypes: object(2)\n",
      "memory usage: 197.6+ KB\n",
      "None\n"
     ]
    }
   ],
   "source": [
    "print(df.info())"
   ]
  },
  {
   "cell_type": "code",
   "execution_count": 11,
   "metadata": {},
   "outputs": [
    {
     "data": {
      "text/html": [
       "<div>\n",
       "<style scoped>\n",
       "    .dataframe tbody tr th:only-of-type {\n",
       "        vertical-align: middle;\n",
       "    }\n",
       "\n",
       "    .dataframe tbody tr th {\n",
       "        vertical-align: top;\n",
       "    }\n",
       "\n",
       "    .dataframe thead th {\n",
       "        text-align: right;\n",
       "    }\n",
       "</style>\n",
       "<table border=\"1\" class=\"dataframe\">\n",
       "  <thead>\n",
       "    <tr style=\"text-align: right;\">\n",
       "      <th></th>\n",
       "      <th>title</th>\n",
       "      <th>content</th>\n",
       "    </tr>\n",
       "  </thead>\n",
       "  <tbody>\n",
       "    <tr>\n",
       "      <th>0</th>\n",
       "      <td>유시민의 경제학 카페</td>\n",
       "      <td>오늘의 책\\n(2011.03.15 선정)\\n평범한 사람들을 위한 경제학 도서\\n넘치...</td>\n",
       "    </tr>\n",
       "    <tr>\n",
       "      <th>1</th>\n",
       "      <td>좋은 기업을 넘어... 위대한 기업으로</td>\n",
       "      <td>오늘의 책\\n(2007.02.08 선정)\\n또 하나의 기업경영 바이블\\n무엇이 위대...</td>\n",
       "    </tr>\n",
       "    <tr>\n",
       "      <th>2</th>\n",
       "      <td>포지셔닝</td>\n",
       "      <td>오늘의 책\\n(2007.09.03 선정)\\n마케팅과 광고 담당자들의 오랜 ‘경전’\\...</td>\n",
       "    </tr>\n",
       "    <tr>\n",
       "      <th>3</th>\n",
       "      <td>전쟁의 기술</td>\n",
       "      <td>책소개\\n위대한 승리자들의 비밀 전략술을 철저히 분석한 21세기판 손자병법!\\n\\n...</td>\n",
       "    </tr>\n",
       "    <tr>\n",
       "      <th>4</th>\n",
       "      <td>부자사전 1</td>\n",
       "      <td>오늘의 책\\n(2006.04.24 선정)\\n대한민국 알부자 100인의 돈 버는 노하...</td>\n",
       "    </tr>\n",
       "    <tr>\n",
       "      <th>5</th>\n",
       "      <td>디테일의 힘 1</td>\n",
       "      <td>책소개\\n'디테일'이 개인과 기업, 국가의 경쟁력에 결정적이라는 사실을 풍부한 예화...</td>\n",
       "    </tr>\n",
       "    <tr>\n",
       "      <th>6</th>\n",
       "      <td>나쁜 사마리아인들</td>\n",
       "      <td>오늘의 책\\n(2008.03.25 선정)\\n“자유주의 경제학의 함정을 폭로”한다\\n...</td>\n",
       "    </tr>\n",
       "    <tr>\n",
       "      <th>7</th>\n",
       "      <td>앨빈 토플러 부의 미래</td>\n",
       "      <td>오늘의 책\\n(2007.12.03 선정)\\n미래학자가 말하는 ‘혁명적 부’의 요인\\...</td>\n",
       "    </tr>\n",
       "    <tr>\n",
       "      <th>8</th>\n",
       "      <td>청소부 밥</td>\n",
       "      <td>오늘의 책\\n(2010.10.25 선정)\\n인생의 진정한 행복과 지혜\\n[청 소부 ...</td>\n",
       "    </tr>\n",
       "    <tr>\n",
       "      <th>9</th>\n",
       "      <td>금융투기의 역사</td>\n",
       "      <td>오늘의 책\\n(2008.11.24 선정)\\n세계 금융투기에 관한 사례 연구\\n부에 ...</td>\n",
       "    </tr>\n",
       "  </tbody>\n",
       "</table>\n",
       "</div>"
      ],
      "text/plain": [
       "                   title                                            content\n",
       "0            유시민의 경제학 카페  오늘의 책\\n(2011.03.15 선정)\\n평범한 사람들을 위한 경제학 도서\\n넘치...\n",
       "1  좋은 기업을 넘어... 위대한 기업으로  오늘의 책\\n(2007.02.08 선정)\\n또 하나의 기업경영 바이블\\n무엇이 위대...\n",
       "2                   포지셔닝  오늘의 책\\n(2007.09.03 선정)\\n마케팅과 광고 담당자들의 오랜 ‘경전’\\...\n",
       "3                 전쟁의 기술  책소개\\n위대한 승리자들의 비밀 전략술을 철저히 분석한 21세기판 손자병법!\\n\\n...\n",
       "4                 부자사전 1  오늘의 책\\n(2006.04.24 선정)\\n대한민국 알부자 100인의 돈 버는 노하...\n",
       "5               디테일의 힘 1  책소개\\n'디테일'이 개인과 기업, 국가의 경쟁력에 결정적이라는 사실을 풍부한 예화...\n",
       "6              나쁜 사마리아인들  오늘의 책\\n(2008.03.25 선정)\\n“자유주의 경제학의 함정을 폭로”한다\\n...\n",
       "7           앨빈 토플러 부의 미래  오늘의 책\\n(2007.12.03 선정)\\n미래학자가 말하는 ‘혁명적 부’의 요인\\...\n",
       "8                  청소부 밥  오늘의 책\\n(2010.10.25 선정)\\n인생의 진정한 행복과 지혜\\n[청 소부 ...\n",
       "9               금융투기의 역사  오늘의 책\\n(2008.11.24 선정)\\n세계 금융투기에 관한 사례 연구\\n부에 ..."
      ]
     },
     "execution_count": 11,
     "metadata": {},
     "output_type": "execute_result"
    }
   ],
   "source": [
    "df.head(10)"
   ]
  },
  {
   "cell_type": "code",
   "execution_count": 12,
   "metadata": {},
   "outputs": [],
   "source": [
    "df.to_csv('./crawling/daum_book.csv')"
   ]
  },
  {
   "cell_type": "code",
   "execution_count": 13,
   "metadata": {},
   "outputs": [],
   "source": [
    "df=pd.read_csv('./crawling/cleaned_daum_book.csv', index_col=0)\n"
   ]
  },
  {
   "cell_type": "code",
   "execution_count": null,
   "metadata": {},
   "outputs": [],
   "source": []
  }
 ],
 "metadata": {
  "kernelspec": {
   "display_name": "Python 3",
   "language": "python",
   "name": "python3"
  },
  "language_info": {
   "codemirror_mode": {
    "name": "ipython",
    "version": 3
   },
   "file_extension": ".py",
   "mimetype": "text/x-python",
   "name": "python",
   "nbconvert_exporter": "python",
   "pygments_lexer": "ipython3",
   "version": "3.7.7"
  }
 },
 "nbformat": 4,
 "nbformat_minor": 4
}
